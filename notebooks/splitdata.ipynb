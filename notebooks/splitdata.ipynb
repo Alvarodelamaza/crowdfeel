{
 "cells": [
  {
   "cell_type": "markdown",
   "metadata": {},
   "source": [
    "## Imports + csv"
   ]
  },
  {
   "cell_type": "code",
   "execution_count": 8,
   "metadata": {},
   "outputs": [],
   "source": [
    "import pandas as pd\n",
    "from sklearn.model_selection import train_test_split\n",
    "\n",
    "data=pd.read_csv('../raw_data/training_data.csv',   encoding='latin-1')\n",
    "data.columns=['label','id', 'date','query','username','tweet']\n",
    "data = data.drop(columns=['id', 'date','query','username'])\n",
    "X = data.drop(columns=['label'])\n",
    "y = data[['label']]"
   ]
  },
  {
   "cell_type": "markdown",
   "metadata": {},
   "source": [
    "## Setting Columns"
   ]
  },
  {
   "cell_type": "code",
   "execution_count": 9,
   "metadata": {},
   "outputs": [],
   "source": [
    "X = data.drop(columns=['label'])\n",
    "y = data['label']"
   ]
  },
  {
   "cell_type": "markdown",
   "metadata": {},
   "source": [
    "## Set X, y"
   ]
  },
  {
   "cell_type": "code",
   "execution_count": 10,
   "metadata": {},
   "outputs": [
    {
     "data": {
      "text/html": [
       "<div>\n",
       "<style scoped>\n",
       "    .dataframe tbody tr th:only-of-type {\n",
       "        vertical-align: middle;\n",
       "    }\n",
       "\n",
       "    .dataframe tbody tr th {\n",
       "        vertical-align: top;\n",
       "    }\n",
       "\n",
       "    .dataframe thead th {\n",
       "        text-align: right;\n",
       "    }\n",
       "</style>\n",
       "<table border=\"1\" class=\"dataframe\">\n",
       "  <thead>\n",
       "    <tr style=\"text-align: right;\">\n",
       "      <th></th>\n",
       "      <th>tweet</th>\n",
       "    </tr>\n",
       "  </thead>\n",
       "  <tbody>\n",
       "    <tr>\n",
       "      <th>1064291</th>\n",
       "      <td>@kaseey i'm in the process of cutting out stuf...</td>\n",
       "    </tr>\n",
       "    <tr>\n",
       "      <th>281802</th>\n",
       "      <td>Already at work for an hour  woe to me</td>\n",
       "    </tr>\n",
       "    <tr>\n",
       "      <th>168792</th>\n",
       "      <td>Writing an essay in college writing  so boring</td>\n",
       "    </tr>\n",
       "    <tr>\n",
       "      <th>911020</th>\n",
       "      <td>@MerDerNeverOver just sent you the FC link, Co...</td>\n",
       "    </tr>\n",
       "    <tr>\n",
       "      <th>69604</th>\n",
       "      <td>I has to give a presentation tomorrow. ...I ha...</td>\n",
       "    </tr>\n",
       "    <tr>\n",
       "      <th>...</th>\n",
       "      <td>...</td>\n",
       "    </tr>\n",
       "    <tr>\n",
       "      <th>259178</th>\n",
       "      <td>I didn't. The link was wrong</td>\n",
       "    </tr>\n",
       "    <tr>\n",
       "      <th>1414414</th>\n",
       "      <td>@tommcfly yes!! mcfly twitter profile is an ex...</td>\n",
       "    </tr>\n",
       "    <tr>\n",
       "      <th>131932</th>\n",
       "      <td>@SarahFTW I know  sometimes i just pretend i h...</td>\n",
       "    </tr>\n",
       "    <tr>\n",
       "      <th>671155</th>\n",
       "      <td>Cant believe you came and asked me that...</td>\n",
       "    </tr>\n",
       "    <tr>\n",
       "      <th>121958</th>\n",
       "      <td>back from bali</td>\n",
       "    </tr>\n",
       "  </tbody>\n",
       "</table>\n",
       "<p>1119999 rows × 1 columns</p>\n",
       "</div>"
      ],
      "text/plain": [
       "                                                     tweet\n",
       "1064291  @kaseey i'm in the process of cutting out stuf...\n",
       "281802              Already at work for an hour  woe to me\n",
       "168792      Writing an essay in college writing  so boring\n",
       "911020   @MerDerNeverOver just sent you the FC link, Co...\n",
       "69604    I has to give a presentation tomorrow. ...I ha...\n",
       "...                                                    ...\n",
       "259178                       I didn't. The link was wrong \n",
       "1414414  @tommcfly yes!! mcfly twitter profile is an ex...\n",
       "131932   @SarahFTW I know  sometimes i just pretend i h...\n",
       "671155         Cant believe you came and asked me that... \n",
       "121958                                   back from bali   \n",
       "\n",
       "[1119999 rows x 1 columns]"
      ]
     },
     "execution_count": 10,
     "metadata": {},
     "output_type": "execute_result"
    }
   ],
   "source": [
    "X_train_16k"
   ]
  },
  {
   "cell_type": "markdown",
   "metadata": {},
   "source": [
    "## Train/Test split, sliced DataFrame in 6 different sized chunks with a train/test split of 0.3.\n",
    "Sizes/df = 16k rows, 48k, 160k, 400k, 800k, 1600k"
   ]
  },
  {
   "cell_type": "code",
   "execution_count": 11,
   "metadata": {},
   "outputs": [],
   "source": [
    "data_16k = data.sample(frac=0.01).reset_index(drop=True)\n",
    "X_train_16k, X_test_16k, y_train_16k, y_test_16k = train_test_split(\n",
    "    X, y, test_size=0.3, random_state=42)"
   ]
  },
  {
   "cell_type": "code",
   "execution_count": 12,
   "metadata": {},
   "outputs": [],
   "source": [
    "data_48k = data.sample(frac=0.03).reset_index(drop=True)\n",
    "X_train_48k, X_test_48k, y_train_48k, y_test_48k = train_test_split(\n",
    "    X, y, test_size=0.3, random_state=42)"
   ]
  },
  {
   "cell_type": "code",
   "execution_count": 13,
   "metadata": {},
   "outputs": [],
   "source": [
    "data_160k = data.sample(frac=0.1).reset_index(drop=True)\n",
    "X_train_160k, X_test_160k, y_train_160k, y_test_160k = train_test_split(\n",
    "    X, y, test_size=0.3, random_state=42)"
   ]
  },
  {
   "cell_type": "code",
   "execution_count": 14,
   "metadata": {},
   "outputs": [],
   "source": [
    "data_400k = data.sample(frac=0.25).reset_index(drop=True)\n",
    "X_train_400k, X_test_400k, y_train_400k, y_test_400k = train_test_split(\n",
    "    X, y, test_size=0.3, random_state=42)"
   ]
  },
  {
   "cell_type": "code",
   "execution_count": 15,
   "metadata": {},
   "outputs": [],
   "source": [
    "data_800k = data.sample(frac=0.5).reset_index(drop=True)\n",
    "X_train_800k, X_test_800k, y_train_800k, y_test_800k = train_test_split(\n",
    "    X, y, test_size=0.3, random_state=42)"
   ]
  },
  {
   "cell_type": "code",
   "execution_count": 16,
   "metadata": {},
   "outputs": [],
   "source": [
    "data_1600k = data.sample(frac=0.5).reset_index(drop=True)\n",
    "X_train_1600k, X_test_1600k, y_train_1600k, y_test_1600k = train_test_split(\n",
    "    X, y, test_size=0.3, random_state=42)"
   ]
  },
  {
   "cell_type": "markdown",
   "metadata": {},
   "source": [
    "## Export to Raw Data folder"
   ]
  },
  {
   "cell_type": "markdown",
   "metadata": {},
   "source": [
    "Change to relative path f'/Users/home/code/alvarodelamaza/crowdfeel/raw_data/{f}.csv' to '~/<GithubUser>/crowdfeel/rawdata{f}.csv'"
   ]
  },
  {
   "cell_type": "code",
   "execution_count": 19,
   "metadata": {},
   "outputs": [],
   "source": [
    "csvs_names = ['X_train_16k', 'X_test_16k', 'y_train_16k', 'y_test_16k','X_train_48k', 'X_test_48k', 'y_train_48k', 'y_test_48k', 'X_train_160k', 'X_test_160k', 'y_train_160k', 'y_test_160k', 'X_train_400k', 'X_test_400k', 'y_train_400k', 'y_test_400k', 'X_train_800k', 'X_test_800k', 'y_train_800k', 'y_test_800k', 'X_train_1600k', 'X_test_1600k', 'y_train_1600k', 'y_test_1600k']\n",
    "csvs = [X_train_16k, X_test_16k, y_train_16k, y_test_16k, X_train_48k, X_test_48k, y_train_48k, y_test_48k, X_train_160k, X_test_160k, y_train_160k, y_test_160k, X_train_400k, X_test_400k, y_train_400k, y_test_400k, X_train_800k, X_test_800k, y_train_800k, y_test_800k, X_train_1600k, X_test_1600k, y_train_1600k, y_test_1600k]\n",
    "\n",
    "for f in range(len(csvs_names)):\n",
    "    csvs[f].to_csv(f'../raw_data/{csvs_names[f]}.csv', index=False)"
   ]
  },
  {
   "cell_type": "code",
   "execution_count": null,
   "metadata": {},
   "outputs": [],
   "source": []
  }
 ],
 "metadata": {
  "kernelspec": {
   "display_name": "Python 3.8.12 64-bit ('shims')",
   "language": "python",
   "name": "python3"
  },
  "language_info": {
   "codemirror_mode": {
    "name": "ipython",
    "version": 3
   },
   "file_extension": ".py",
   "mimetype": "text/x-python",
   "name": "python",
   "nbconvert_exporter": "python",
   "pygments_lexer": "ipython3",
   "version": "3.8.12"
  },
  "toc": {
   "base_numbering": 1,
   "nav_menu": {},
   "number_sections": true,
   "sideBar": true,
   "skip_h1_title": false,
   "title_cell": "Table of Contents",
   "title_sidebar": "Contents",
   "toc_cell": false,
   "toc_position": {},
   "toc_section_display": true,
   "toc_window_display": false
  },
  "vscode": {
   "interpreter": {
    "hash": "c9d21896d475ffb963546e8220a03d7c459286fa2696a88c0f7fbb7da99616e7"
   }
  }
 },
 "nbformat": 4,
 "nbformat_minor": 2
}
