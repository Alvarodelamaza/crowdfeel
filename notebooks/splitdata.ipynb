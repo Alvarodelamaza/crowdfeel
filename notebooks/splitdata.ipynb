{
 "cells": [
  {
   "cell_type": "code",
   "execution_count": 1,
   "metadata": {},
   "outputs": [],
   "source": [
    "from numpy.random import RandomState\n",
    "import numpy as np\n",
    "import pandas as pd\n",
    "from sklearn.model_selection import train_test_split\n",
    "\n",
    "data=pd.read_csv('../raw_data/training_data.csv',   encoding='latin-1')\n"
   ]
  },
  {
   "cell_type": "code",
   "execution_count": 2,
   "metadata": {},
   "outputs": [],
   "source": [
    "data.columns=['label','id', 'date','query','username','tweet']\n",
    "data = data.drop(columns=['id', 'date','query','username'])"
   ]
  },
  {
   "cell_type": "code",
   "execution_count": 3,
   "metadata": {},
   "outputs": [],
   "source": [
    "X = data.drop(columns=['label'])\n",
    "y = data[['label']]"
   ]
  },
  {
   "cell_type": "code",
   "execution_count": 4,
   "metadata": {},
   "outputs": [],
   "source": [
    "data_16k = data.sample(frac=0.01).reset_index(drop=True)\n",
    "X_train_16k, X_test_16k, y_train_16k, y_test_16k = train_test_split(\n",
    "    X, y, test_size=0.3, random_state=42)"
   ]
  },
  {
   "cell_type": "code",
   "execution_count": 5,
   "metadata": {},
   "outputs": [],
   "source": [
    "data_48k = data.sample(frac=0.03).reset_index(drop=True)\n",
    "X_train_48k, X_test_48k, y_train_48k, y_test_48k = train_test_split(\n",
    "    X, y, test_size=0.3, random_state=42)"
   ]
  },
  {
   "cell_type": "code",
   "execution_count": 6,
   "metadata": {},
   "outputs": [],
   "source": [
    "data_160k = data.sample(frac=0.1).reset_index(drop=True)\n",
    "X_train_160k, X_test_160k, y_train_160k, y_test_160k = train_test_split(\n",
    "    X, y, test_size=0.3, random_state=42)"
   ]
  },
  {
   "cell_type": "code",
   "execution_count": 7,
   "metadata": {},
   "outputs": [],
   "source": [
    "data_400k = data.sample(frac=0.25).reset_index(drop=True)\n",
    "X_train_400k, X_test_400k, y_train_400k, y_test_400k = train_test_split(\n",
    "    X, y, test_size=0.3, random_state=42)"
   ]
  },
  {
   "cell_type": "code",
   "execution_count": 8,
   "metadata": {},
   "outputs": [],
   "source": [
    "data_800k = data.sample(frac=0.5).reset_index(drop=True)\n",
    "X_train_800k, X_test_800k, y_train_800k, y_test_800k = train_test_split(\n",
    "    X, y, test_size=0.3, random_state=42)"
   ]
  },
  {
   "cell_type": "code",
   "execution_count": 9,
   "metadata": {},
   "outputs": [],
   "source": [
    "data_1600k = data.sample(frac=0.5).reset_index(drop=True)\n",
    "X_train_1600k, X_test_1600k, y_train_1600k, y_test_1600k = train_test_split(\n",
    "    X, y, test_size=0.3, random_state=42)"
   ]
  },
  {
   "cell_type": "code",
   "execution_count": 10,
   "metadata": {},
   "outputs": [],
   "source": [
    "csvs_names = ['X_train_16k', 'X_test_16k', 'y_train_16k', 'y_test_16k','X_train_48k', 'X_test_48k', 'y_train_48k', 'y_test_48k', 'X_train_160k', 'X_test_160k', 'y_train_160k', 'y_test_160k', 'X_train_400k', 'X_test_400k', 'y_train_400k', 'y_test_400k', 'X_train_800k', 'X_test_800k', 'y_train_800k', 'y_test_800k', 'X_train_1600k', 'X_test_1600k', 'y_train_1600k', 'y_test_1600k']\n",
    "csvs = [X_train_16k, X_test_16k, y_train_16k, y_test_16k, X_train_48k, X_test_48k, y_train_48k, y_test_48k, X_train_160k, X_test_160k, y_train_160k, y_test_160k, X_train_400k, X_test_400k, y_train_400k, y_test_400k, X_train_800k, X_test_800k, y_train_800k, y_test_800k, X_train_1600k, X_test_1600k, y_train_1600k, y_test_1600k]\n",
    "\n",
    "for i in csvs:\n",
    "    for f in csvs_names:\n",
    "        i.to_csv(f'/Users/home/code/alvarodelamaza/crowdfeel/raw_data/{f}.csv', index=False)"
   ]
  },
  {
   "cell_type": "code",
   "execution_count": null,
   "metadata": {},
   "outputs": [],
   "source": []
  }
 ],
 "metadata": {
  "kernelspec": {
   "display_name": "Python 3.8.12 64-bit ('shims')",
   "language": "python",
   "name": "python3"
  },
  "language_info": {
   "codemirror_mode": {
    "name": "ipython",
    "version": 3
   },
   "file_extension": ".py",
   "mimetype": "text/x-python",
   "name": "python",
   "nbconvert_exporter": "python",
   "pygments_lexer": "ipython3",
   "version": "3.8.12"
  },
  "orig_nbformat": 4,
  "vscode": {
   "interpreter": {
    "hash": "d845ad351ef00b05e2eb94858c114d5926e344d05a067103918e64f083fd01f5"
   }
  }
 },
 "nbformat": 4,
 "nbformat_minor": 2
}
