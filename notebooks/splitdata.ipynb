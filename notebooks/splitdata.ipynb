{
 "cells": [
  {
   "cell_type": "markdown",
   "metadata": {},
   "source": [
    "## Imports + csv"
   ]
  },
  {
   "cell_type": "code",
   "execution_count": 21,
   "metadata": {},
   "outputs": [],
   "source": [
    "import pandas as pd\n",
    "from sklearn.model_selection import train_test_split\n",
    "\n",
    "data=pd.read_csv('../raw_data/training_data.csv',   encoding='latin-1')\n",
    "data.columns=['label','id', 'date','query','username','tweet']\n",
    "data = data.drop(columns=['id', 'date','query','username'])\n",
    "X = data.drop(columns=['label'])\n",
    "y = data[['label']]"
   ]
  },
  {
   "cell_type": "markdown",
   "metadata": {},
   "source": [
    "## Setting Columns"
   ]
  },
  {
   "cell_type": "code",
   "execution_count": 22,
   "metadata": {},
   "outputs": [],
   "source": [
    "X = data.drop(columns=['label'])\n",
    "y = data['label']"
   ]
  },
  {
   "cell_type": "markdown",
   "metadata": {},
   "source": [
    "## Set X, y"
   ]
  },
  {
   "cell_type": "code",
   "execution_count": 24,
   "metadata": {},
   "outputs": [
    {
     "data": {
      "text/plain": [
       "<bound method NDFrame._add_numeric_operations.<locals>.mean of 0          0\n",
       "1          0\n",
       "2          0\n",
       "3          0\n",
       "4          0\n",
       "          ..\n",
       "1599994    4\n",
       "1599995    4\n",
       "1599996    4\n",
       "1599997    4\n",
       "1599998    4\n",
       "Name: label, Length: 1599999, dtype: int64>"
      ]
     },
     "execution_count": 24,
     "metadata": {},
     "output_type": "execute_result"
    }
   ],
   "source": [
    "y.mean"
   ]
  },
  {
   "cell_type": "markdown",
   "metadata": {},
   "source": [
    "## Train/Test split, sliced DataFrame in 6 different sized chunks with a train/test split of 0.3.\n",
    "Sizes/df = 16k rows, 48k, 160k, 400k, 800k, 1600k"
   ]
  },
  {
   "cell_type": "code",
   "execution_count": null,
   "metadata": {},
   "outputs": [],
   "source": [
    "data_16k = data.sample(frac=0.01).reset_index(drop=True)\n",
    "X_train_16k, X_test_16k, y_train_16k, y_test_16k = train_test_split(\n",
    "    X, y, test_size=0.3, random_state=42)"
   ]
  },
  {
   "cell_type": "code",
   "execution_count": null,
   "metadata": {},
   "outputs": [],
   "source": [
    "data_48k = data.sample(frac=0.03).reset_index(drop=True)\n",
    "X_train_48k, X_test_48k, y_train_48k, y_test_48k = train_test_split(\n",
    "    X, y, test_size=0.3, random_state=42)"
   ]
  },
  {
   "cell_type": "code",
   "execution_count": null,
   "metadata": {},
   "outputs": [],
   "source": [
    "data_160k = data.sample(frac=0.1).reset_index(drop=True)\n",
    "X_train_160k, X_test_160k, y_train_160k, y_test_160k = train_test_split(\n",
    "    X, y, test_size=0.3, random_state=42)"
   ]
  },
  {
   "cell_type": "code",
   "execution_count": null,
   "metadata": {},
   "outputs": [],
   "source": [
    "data_400k = data.sample(frac=0.25).reset_index(drop=True)\n",
    "X_train_400k, X_test_400k, y_train_400k, y_test_400k = train_test_split(\n",
    "    X, y, test_size=0.3, random_state=42)"
   ]
  },
  {
   "cell_type": "code",
   "execution_count": null,
   "metadata": {},
   "outputs": [],
   "source": [
    "data_800k = data.sample(frac=0.5).reset_index(drop=True)\n",
    "X_train_800k, X_test_800k, y_train_800k, y_test_800k = train_test_split(\n",
    "    X, y, test_size=0.3, random_state=42)"
   ]
  },
  {
   "cell_type": "code",
   "execution_count": null,
   "metadata": {},
   "outputs": [],
   "source": [
    "data_1600k = data.sample(frac=0.5).reset_index(drop=True)\n",
    "X_train_1600k, X_test_1600k, y_train_1600k, y_test_1600k = train_test_split(\n",
    "    X, y, test_size=0.3, random_state=42)"
   ]
  },
  {
   "cell_type": "markdown",
   "metadata": {},
   "source": [
    "## Export to Raw Data folder"
   ]
  },
  {
   "cell_type": "markdown",
   "metadata": {},
   "source": [
    "Change to relative path f'/Users/home/code/alvarodelamaza/crowdfeel/raw_data/{f}.csv' to '~/<GithubUser>/crowdfeel/rawdata{f}.csv'"
   ]
  },
  {
   "cell_type": "code",
   "execution_count": null,
   "metadata": {},
   "outputs": [],
   "source": [
    "csvs_names = ['X_train_16k', 'X_test_16k', 'y_train_16k', 'y_test_16k','X_train_48k', 'X_test_48k', 'y_train_48k', 'y_test_48k', 'X_train_160k', 'X_test_160k', 'y_train_160k', 'y_test_160k', 'X_train_400k', 'X_test_400k', 'y_train_400k', 'y_test_400k', 'X_train_800k', 'X_test_800k', 'y_train_800k', 'y_test_800k', 'X_train_1600k', 'X_test_1600k', 'y_train_1600k', 'y_test_1600k']\n",
    "csvs = [X_train_16k, X_test_16k, y_train_16k, y_test_16k, X_train_48k, X_test_48k, y_train_48k, y_test_48k, X_train_160k, X_test_160k, y_train_160k, y_test_160k, X_train_400k, X_test_400k, y_train_400k, y_test_400k, X_train_800k, X_test_800k, y_train_800k, y_test_800k, X_train_1600k, X_test_1600k, y_train_1600k, y_test_1600k]\n",
    "\n",
    "for i in csvs:\n",
    "    for f in csvs_names:§b\n",
    "        i.to_csv(f'/Users/home/code/tjebbel/crowdfeel/raw_data/{f}.csv', index=False)"
   ]
  }
 ],
 "metadata": {
  "kernelspec": {
   "display_name": "Python 3 (ipykernel)",
   "language": "python",
   "name": "python3"
  },
  "language_info": {
   "codemirror_mode": {
    "name": "ipython",
    "version": 3
   },
   "file_extension": ".py",
   "mimetype": "text/x-python",
   "name": "python",
   "nbconvert_exporter": "python",
   "pygments_lexer": "ipython3",
   "version": "3.8.12"
  },
  "toc": {
   "base_numbering": 1,
   "nav_menu": {},
   "number_sections": true,
   "sideBar": true,
   "skip_h1_title": false,
   "title_cell": "Table of Contents",
   "title_sidebar": "Contents",
   "toc_cell": false,
   "toc_position": {},
   "toc_section_display": true,
   "toc_window_display": false
  },
  "vscode": {
   "interpreter": {
    "hash": "d845ad351ef00b05e2eb94858c114d5926e344d05a067103918e64f083fd01f5"
   }
  }
 },
 "nbformat": 4,
 "nbformat_minor": 2
}
